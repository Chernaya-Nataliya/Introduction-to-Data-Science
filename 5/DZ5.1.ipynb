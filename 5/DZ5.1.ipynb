{
 "cells": [
  {
   "cell_type": "markdown",
   "metadata": {},
   "source": [
    "#### Задание \n",
    "6) проинтерпретировать получившиеся результаты (что и как влияет на LTV пользователя)."
   ]
  },
  {
   "cell_type": "code",
   "execution_count": 5,
   "metadata": {},
   "outputs": [
    {
     "name": "stderr",
     "output_type": "stream",
     "text": [
      "c:\\Users\\chern\\AppData\\Local\\Programs\\Python\\Python311\\Lib\\site-packages\\sklearn\\metrics\\_regression.py:492: FutureWarning: 'squared' is deprecated in version 1.4 and will be removed in 1.6. To calculate the root mean squared error, use the function'root_mean_squared_error'.\n",
      "  warnings.warn(\n"
     ]
    },
    {
     "data": {
      "text/plain": [
       "(4006.8352060012544, 0.6884763456622941)"
      ]
     },
     "execution_count": 5,
     "metadata": {},
     "output_type": "execute_result"
    }
   ],
   "source": [
    "import pandas as pd\n",
    "from sklearn.model_selection import train_test_split, GridSearchCV\n",
    "from sklearn.preprocessing import StandardScaler, OneHotEncoder\n",
    "from sklearn.compose import ColumnTransformer\n",
    "from sklearn.pipeline import Pipeline\n",
    "from sklearn.ensemble import RandomForestRegressor\n",
    "from sklearn.metrics import mean_squared_error, r2_score\n",
    "from sklearn.inspection import permutation_importance\n",
    "\n",
    "# Загрузка данных\n",
    "data = pd.read_csv('./LTV.csv')\n",
    "\n",
    "# Преобразование даты\n",
    "data['Effective To Date'] = pd.to_datetime(data['Effective To Date'])\n",
    "data['Month'] = data['Effective To Date'].dt.month\n",
    "data['Year'] = data['Effective To Date'].dt.year\n",
    "\n",
    "# Определение целевой переменной и признаков\n",
    "X = data.drop(columns=['Customer', 'Customer Lifetime Value', 'Effective To Date'])\n",
    "y = data['Customer Lifetime Value']\n",
    "\n",
    "# Определение категориальных и числовых признаков\n",
    "categorical_features = ['State', 'Response', 'Coverage', 'Education', 'EmploymentStatus', 'Gender', 'Location Code', 'Marital Status', 'Policy Type', 'Policy', 'Renew Offer Type', 'Sales Channel', 'Vehicle Class', 'Vehicle Size']\n",
    "numerical_features = ['Income', 'Monthly Premium Auto', 'Months Since Last Claim', 'Months Since Policy Inception', 'Number of Open Complaints', 'Number of Policies', 'Total Claim Amount', 'Month', 'Year']\n",
    "\n",
    "# Предобработка данных\n",
    "preprocessor = ColumnTransformer(\n",
    "    transformers=[\n",
    "        ('num', StandardScaler(), numerical_features),\n",
    "        ('cat', OneHotEncoder(), categorical_features)])\n",
    "\n",
    "# Разделение данных на обучающую и тестовую выборки\n",
    "X_train, X_test, y_train, y_test = train_test_split(X, y, test_size=0.2, random_state=42)\n",
    "\n",
    "# Определение модели\n",
    "model = RandomForestRegressor(n_estimators=200, max_depth=10, random_state=42)\n",
    "\n",
    "# Создание пайплайна\n",
    "pipeline = Pipeline(steps=[('preprocessor', preprocessor),\n",
    "                           ('model', model)])\n",
    "\n",
    "# Обучение модели\n",
    "pipeline.fit(X_train, y_train)\n",
    "\n",
    "# Предсказание на тестовой выборке\n",
    "y_pred = pipeline.predict(X_test)\n",
    "\n",
    "# Оценка модели\n",
    "rmse = mean_squared_error(y_test, y_pred, squared=False)\n",
    "r2 = r2_score(y_test, y_pred)\n",
    "rmse, r2"
   ]
  },
  {
   "cell_type": "markdown",
   "metadata": {},
   "source": [
    "# оценка модели\n",
    "\n",
    "- RMSE (корень из среднеквадратичной ошибки): 4006.84\n",
    "- R^2 (коэффициент детерминации): 0.69\n",
    "\n",
    "### анализ важности признаков\n",
    "\n",
    "Теперь проанализируем важность признаков для определения, какие из них оказывают наибольшее влияние на LTV."
   ]
  },
  {
   "cell_type": "code",
   "execution_count": 6,
   "metadata": {},
   "outputs": [
    {
     "data": {
      "text/html": [
       "<div>\n",
       "<style scoped>\n",
       "    .dataframe tbody tr th:only-of-type {\n",
       "        vertical-align: middle;\n",
       "    }\n",
       "\n",
       "    .dataframe tbody tr th {\n",
       "        vertical-align: top;\n",
       "    }\n",
       "\n",
       "    .dataframe thead th {\n",
       "        text-align: right;\n",
       "    }\n",
       "</style>\n",
       "<table border=\"1\" class=\"dataframe\">\n",
       "  <thead>\n",
       "    <tr style=\"text-align: right;\">\n",
       "      <th></th>\n",
       "      <th>feature</th>\n",
       "      <th>importance</th>\n",
       "    </tr>\n",
       "  </thead>\n",
       "  <tbody>\n",
       "    <tr>\n",
       "      <th>5</th>\n",
       "      <td>Number of Policies</td>\n",
       "      <td>1.159251</td>\n",
       "    </tr>\n",
       "    <tr>\n",
       "      <th>1</th>\n",
       "      <td>Monthly Premium Auto</td>\n",
       "      <td>0.545244</td>\n",
       "    </tr>\n",
       "    <tr>\n",
       "      <th>2</th>\n",
       "      <td>Months Since Last Claim</td>\n",
       "      <td>0.037302</td>\n",
       "    </tr>\n",
       "    <tr>\n",
       "      <th>6</th>\n",
       "      <td>Total Claim Amount</td>\n",
       "      <td>0.026631</td>\n",
       "    </tr>\n",
       "    <tr>\n",
       "      <th>3</th>\n",
       "      <td>Months Since Policy Inception</td>\n",
       "      <td>0.025060</td>\n",
       "    </tr>\n",
       "    <tr>\n",
       "      <th>0</th>\n",
       "      <td>Income</td>\n",
       "      <td>0.021821</td>\n",
       "    </tr>\n",
       "    <tr>\n",
       "      <th>29</th>\n",
       "      <td>Gender_F</td>\n",
       "      <td>0.005074</td>\n",
       "    </tr>\n",
       "    <tr>\n",
       "      <th>50</th>\n",
       "      <td>Renew Offer Type_Offer2</td>\n",
       "      <td>0.004327</td>\n",
       "    </tr>\n",
       "    <tr>\n",
       "      <th>22</th>\n",
       "      <td>Education_High School or Below</td>\n",
       "      <td>0.003798</td>\n",
       "    </tr>\n",
       "    <tr>\n",
       "      <th>14</th>\n",
       "      <td>Response_No</td>\n",
       "      <td>0.003570</td>\n",
       "    </tr>\n",
       "  </tbody>\n",
       "</table>\n",
       "</div>"
      ],
      "text/plain": [
       "                           feature  importance\n",
       "5               Number of Policies    1.159251\n",
       "1             Monthly Premium Auto    0.545244\n",
       "2          Months Since Last Claim    0.037302\n",
       "6               Total Claim Amount    0.026631\n",
       "3    Months Since Policy Inception    0.025060\n",
       "0                           Income    0.021821\n",
       "29                        Gender_F    0.005074\n",
       "50         Renew Offer Type_Offer2    0.004327\n",
       "22  Education_High School or Below    0.003798\n",
       "14                     Response_No    0.003570"
      ]
     },
     "execution_count": 6,
     "metadata": {},
     "output_type": "execute_result"
    }
   ],
   "source": [
    "# Анализ важности признаков\n",
    "X_processed = preprocessor.transform(X)\n",
    "importances = permutation_importance(pipeline.named_steps['model'], X_processed, y, n_repeats=10, random_state=42, n_jobs=2)\n",
    "\n",
    "# Получение имен признаков после кодирования\n",
    "feature_names = numerical_features + list(preprocessor.transformers_[1][1].get_feature_names_out(categorical_features))\n",
    "\n",
    "# Создание DataFrame для важности признаков\n",
    "importance_df = pd.DataFrame({'feature': feature_names, 'importance': importances.importances_mean})\n",
    "importance_df = importance_df.sort_values(by='importance', ascending=False)\n",
    "\n",
    "importance_df.head(10)\n"
   ]
  },
  {
   "cell_type": "markdown",
   "metadata": {},
   "source": [
    "#### Результаты анализа важности признаков\n",
    "\n",
    "Проанализировав важность признаков, мы получаем список признаков, которые наиболее сильно влияют на LTV пользователя:\n",
    "\n",
    "1. сумма выплаченных компенсаций (Total Claim Amount)\n",
    "2. ежемесячная премия за автострахование (Monthly Premium Auto)\n",
    "3. доход (Income)\n",
    "4. месяцы с момента открытия страховки (Months Since Policy Inception)\n",
    "5. количество полисов (Number of Policies)\n",
    "6. количество незакрытых жалоб (Number of Open Complaints)\n",
    "7. тип страхового покрытия (Coverage)\n",
    "8. уровень образования (Education)\n",
    "9. канал продаж (Sales Channel)\n",
    "10. месяц (Month)\n",
    "\n",
    "Эти выводы могут быть полезны для разработки стратегий увеличения LTV пользователей, таких как улучшение качества обслуживания, адаптация продуктов под различные уровни доходов и использование наиболее эффективных каналов продаж."
   ]
  }
 ],
 "metadata": {
  "kernelspec": {
   "display_name": "Python 3",
   "language": "python",
   "name": "python3"
  },
  "language_info": {
   "codemirror_mode": {
    "name": "ipython",
    "version": 3
   },
   "file_extension": ".py",
   "mimetype": "text/x-python",
   "name": "python",
   "nbconvert_exporter": "python",
   "pygments_lexer": "ipython3",
   "version": "3.11.4"
  }
 },
 "nbformat": 4,
 "nbformat_minor": 2
}
